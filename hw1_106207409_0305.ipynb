{
 "cells": [
  {
   "cell_type": "markdown",
   "metadata": {},
   "source": [
    "matplotlib tutorial\n",
    "\n",
    "https://github.com/rougier/matplotlib-tutorial\n",
    "\n",
    "https://blog.techbridge.cc/2018/05/11/python-data-science-and-machine-learning-matplotlib-tutorial/"
   ]
  },
  {
   "cell_type": "code",
   "execution_count": 1,
   "metadata": {},
   "outputs": [],
   "source": [
    "%matplotlib inline \n",
    "#可以在jupyter作圖\n",
    "import numpy as np\n",
    "import matplotlib.pyplot as plt\n",
    "import pandas as pd\n",
    "import seaborn as sns\n",
    "from ipywidgets import interact  \n",
    "#可以做選單 拉槓之類的"
   ]
  },
  {
   "cell_type": "code",
   "execution_count": 2,
   "metadata": {},
   "outputs": [],
   "source": [
    "np.random.seed(19680801)\n",
    "\n",
    "x = np.linspace(-10,10,200)\n",
    "s = np.sin(x)\n",
    "c = np.cos(x)\n",
    "\n",
    "def myplot(n=1):\n",
    "    x1 = np.array([[1,2,3], [4,5,6], [7,8,9]])\n",
    "    y1 = np.array([0,2,4])\n",
    "    x2 = np.array([[1,2,3], [4,5,6], [7,8,9]])\n",
    "    y2 = np.array([8,6,4])\n",
    "    \n",
    "    x3 = 10*(np.random.rand(10))\n",
    "    y3 = 10*(np.random.rand(10))\n",
    "    z3 = np.sqrt(x3**2 + y3**2)\n",
    "    \n",
    "    plt.plot(x, np.sin(n*x),color = 'steelblue')\n",
    "    plt.plot(x, np.cos(n*x),color = 'cornflowerblue')\n",
    "    plt.plot(y1,x1,linestyle='-',color = 'olivedrab')\n",
    "    plt.plot(y2,x2,linestyle='-',color = 'yellowgreen')\n",
    "    \n",
    "#     plt.subplot(324)\n",
    "    plt.scatter(x3-5, y3,s=80, c=z3,marker=(5, 1))\n"
   ]
  },
  {
   "cell_type": "code",
   "execution_count": 3,
   "metadata": {},
   "outputs": [
    {
     "data": {
      "application/vnd.jupyter.widget-view+json": {
       "model_id": "0605c104d4ed4173a8c3227f3373732e",
       "version_major": 2,
       "version_minor": 0
      },
      "text/html": [
       "<p>Failed to display Jupyter Widget of type <code>interactive</code>.</p>\n",
       "<p>\n",
       "  If you're reading this message in the Jupyter Notebook or JupyterLab Notebook, it may mean\n",
       "  that the widgets JavaScript is still loading. If this message persists, it\n",
       "  likely means that the widgets JavaScript library is either not installed or\n",
       "  not enabled. See the <a href=\"https://ipywidgets.readthedocs.io/en/stable/user_install.html\">Jupyter\n",
       "  Widgets Documentation</a> for setup instructions.\n",
       "</p>\n",
       "<p>\n",
       "  If you're reading this message in another frontend (for example, a static\n",
       "  rendering on GitHub or <a href=\"https://nbviewer.jupyter.org/\">NBViewer</a>),\n",
       "  it may mean that your frontend doesn't currently support widgets.\n",
       "</p>\n"
      ],
      "text/plain": [
       "interactive(children=(IntSlider(value=1, description='n', max=20, min=1), Output()), _dom_classes=('widget-interact',))"
      ]
     },
     "metadata": {},
     "output_type": "display_data"
    },
    {
     "data": {
      "text/plain": [
       "<function __main__.myplot>"
      ]
     },
     "execution_count": 3,
     "metadata": {},
     "output_type": "execute_result"
    }
   ],
   "source": [
    "interact(myplot, n=(1, 20))"
   ]
  },
  {
   "cell_type": "code",
   "execution_count": null,
   "metadata": {},
   "outputs": [],
   "source": []
  }
 ],
 "metadata": {
  "kernelspec": {
   "display_name": "Python 3",
   "language": "python",
   "name": "python3"
  },
  "language_info": {
   "codemirror_mode": {
    "name": "ipython",
    "version": 3
   },
   "file_extension": ".py",
   "mimetype": "text/x-python",
   "name": "python",
   "nbconvert_exporter": "python",
   "pygments_lexer": "ipython3",
   "version": "3.6.4"
  }
 },
 "nbformat": 4,
 "nbformat_minor": 2
}
